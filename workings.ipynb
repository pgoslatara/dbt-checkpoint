{
 "cells": [
  {
   "cell_type": "code",
   "execution_count": 1,
   "metadata": {},
   "outputs": [
    {
     "name": "stdout",
     "output_type": "stream",
     "text": [
      "cmd=('ls', '-ahl')\n",
      "kwargs={'stdout': -1, 'stderr': -1}\n"
     ]
    },
    {
     "data": {
      "text/plain": [
       "'total 472K\\ndrwxrwxr-x 13 pslattery pslattery 4.0K Apr 11 18:35 .\\ndrwxrwxr-x 36 pslattery pslattery 4.0K Apr  3 21:56 ..\\n-rw-rw-r--  1 pslattery pslattery 9.3K Mar 11 14:28 CHANGELOG.md\\n-rw-r--r--  1 pslattery pslattery 240K Apr  9 21:28 .coverage\\ndrwxrwxr-x  3 pslattery pslattery 4.0K Apr  9 21:31 dbt_checkpoint\\n-rw-rw-r--  1 pslattery pslattery   34 Mar 11 14:28 .dbt-checkpoint.yaml\\ndrwxrwxr-x  2 pslattery pslattery 4.0K Mar 24 19:19 dbt_packages\\ndrwxrwxr-x  2 pslattery pslattery 4.0K Mar 11 14:28 .devcontainer\\n-rw-rw-r--  1 pslattery pslattery   25 Apr  1 21:41 .env\\ndrwxrwxr-x  8 pslattery pslattery 4.0K Apr 11 18:33 .git\\ndrwxrwxr-x  4 pslattery pslattery 4.0K Apr  9 21:29 .github\\n-rw-rw-r--  1 pslattery pslattery 2.1K Mar 11 14:28 .gitignore\\n-rw-rw-r--  1 pslattery pslattery  88K Apr  1 21:40 HOOKS.md\\ndrwxrwxr-x  2 pslattery pslattery 4.0K Mar 11 14:28 images\\n-rw-rw-r--  1 pslattery pslattery 1.1K Mar 11 14:28 LICENSE\\n-rw-rw-r--  1 pslattery pslattery  798 Mar 11 14:28 mutmut_config.py\\n-rw-rw-r--  1 pslattery pslattery 1008 Mar 11 14:28 .pre-commit-config.yaml\\ndrwxrwxr-x  2 pslattery pslattery 4.0K Apr  9 21:27 pre_commit_hooks.egg-info\\n-rw-rw-r--  1 pslattery pslattery  13K Apr 11 18:33 .pre-commit-hooks.yaml\\ndrwxrwxr-x  3 pslattery pslattery 4.0K Mar 24 18:42 .pytest_cache\\n-rw-rw-r--  1 pslattery pslattery  17K Apr  1 21:40 README.md\\n-rw-rw-r--  1 pslattery pslattery   52 Apr  1 21:52 requirements-dev.txt\\n-rw-rw-r--  1 pslattery pslattery 5.6K Apr  1 21:40 setup.cfg\\n-rw-rw-r--  1 pslattery pslattery   38 Mar 11 14:28 setup.py\\ndrwxrwxr-x  4 pslattery pslattery 4.0K Apr 11 18:33 tests\\ndrwxrwxr-x 12 pslattery pslattery 4.0K Apr  1 21:54 .tox\\n-rw-rw-r--  1 pslattery pslattery  712 Apr  9 21:31 tox.ini\\ndrwxrwxr-x  5 pslattery pslattery 4.0K Apr 11 18:36 .venv\\n-rw-rw-r--  1 pslattery pslattery    0 Apr 11 18:35 workings.ipynb\\n'"
      ]
     },
     "execution_count": 1,
     "metadata": {},
     "output_type": "execute_result"
    }
   ],
   "source": [
    "from dbt_checkpoint.utils import cmd_output\n",
    "\n",
    "cmd_output(\"ls\", \"-ahl\")"
   ]
  }
 ],
 "metadata": {
  "kernelspec": {
   "display_name": ".venv",
   "language": "python",
   "name": "python3"
  },
  "language_info": {
   "codemirror_mode": {
    "name": "ipython",
    "version": 3
   },
   "file_extension": ".py",
   "mimetype": "text/x-python",
   "name": "python",
   "nbconvert_exporter": "python",
   "pygments_lexer": "ipython3",
   "version": "3.11.6"
  }
 },
 "nbformat": 4,
 "nbformat_minor": 2
}
